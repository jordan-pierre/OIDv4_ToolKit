{
  "nbformat": 4,
  "nbformat_minor": 0,
  "metadata": {
    "colab": {
      "name": "Dataset Collection OID Toolkit",
      "provenance": [],
      "collapsed_sections": []
    },
    "kernelspec": {
      "name": "python3",
      "display_name": "Python 3"
    },
    "language_info": {
      "name": "python"
    }
  },
  "cells": [
    {
      "cell_type": "markdown",
      "metadata": {
        "id": "_ct1jjENpm4P"
      },
      "source": [
        "# **YOLOR Custom Dataset Download using OID-Toolkit**\n",
        "\n",
        "So you want to train your model right but don't have enough data? Well I've got you covered. You can now download over 9 Million annotations with over 600+ classes for FREE! The best part is that these images are all Creative Commons, which means that you can use them for any purpose including commercial applications.\n",
        "\n",
        "Using the Googles OID-Toolkit you will be able to do download annotations for your YOLOR Model and hit the ground running with your model. I will show you how in this lesson.\n",
        "\n",
        "# **Want to Become a YOLOR Expert?**\n",
        "💻Get Started with YOLOR [Get Started](https://augmentedstartups.info/YOLOR-Get-Started). <br>\n",
        "⭐ Download the Code at the [AI Vision Store](https://augmentedstartups.info/VisionStore)<br>\n",
        "☕ Buy me [Chai/Coffee](https://bit.ly/BuymeaCoffeeAS)\n",
        "\n",
        "# **Tutorial**\n",
        "\n",
        "We will be implementing the following steps:\n",
        "\n",
        "1.   Setting up Dependencies\n",
        "2.   Download Sample Videos\n",
        "3.   Process Sample Video\n",
        "\n",
        "\n",
        "# **About Me**\n",
        "\n",
        "[Augmented Startups](https://www.augmentedstartups.com) provides tutorials in AI Computer Vision and Augmented Reality. With over **89K subscribers** on our channel, we teach state-of-art models and build apps and projects that solve real-world problems. \n",
        "\n",
        "\n",
        "![picture](https://drive.google.com/uc?export=view&id=1cTMSbjs6rCAx_tRnJGZz_niZgpBuiDT0)"
      ]
    },
    {
      "cell_type": "markdown",
      "metadata": {
        "id": "bk6BNrV7qvSe"
      },
      "source": [
        "# **1. Install OID-Toolkit**"
      ]
    },
    {
      "cell_type": "code",
      "metadata": {
        "colab": {
          "base_uri": "https://localhost:8080/"
        },
        "id": "gh3pNcYFcVyB",
        "outputId": "55cd260d-6465-4299-fd54-f94a3c2172cf"
      },
      "source": [
        "!git clone https://github.com/augmentedstartups/OIDv4_ToolKit.git"
      ],
      "execution_count": null,
      "outputs": [
        {
          "output_type": "stream",
          "text": [
            "Cloning into 'OIDv4_ToolKit'...\n",
            "remote: Enumerating objects: 422, done.\u001b[K\n",
            "remote: Total 422 (delta 0), reused 0 (delta 0), pack-reused 422\u001b[K\n",
            "Receiving objects: 100% (422/422), 34.08 MiB | 23.71 MiB/s, done.\n",
            "Resolving deltas: 100% (146/146), done.\n"
          ],
          "name": "stdout"
        }
      ]
    },
    {
      "cell_type": "code",
      "metadata": {
        "colab": {
          "base_uri": "https://localhost:8080/"
        },
        "id": "-1mO-UXvchUK",
        "outputId": "18b82531-d08d-41af-dd24-18e05762989d"
      },
      "source": [
        "%cd /content/OIDv4_ToolKit"
      ],
      "execution_count": null,
      "outputs": [
        {
          "output_type": "stream",
          "text": [
            "/content/OIDv4_ToolKit\n"
          ],
          "name": "stdout"
        }
      ]
    },
    {
      "cell_type": "code",
      "metadata": {
        "colab": {
          "base_uri": "https://localhost:8080/"
        },
        "id": "EM0Y37Bwcl0O",
        "outputId": "3e8becb3-75c8-44a3-eb96-ab88604a086a"
      },
      "source": [
        "!pip install -r requirements.txt"
      ],
      "execution_count": null,
      "outputs": [
        {
          "output_type": "stream",
          "text": [
            "Requirement already satisfied: pandas in /usr/local/lib/python3.7/dist-packages (from -r requirements.txt (line 1)) (1.1.5)\n",
            "Requirement already satisfied: numpy in /usr/local/lib/python3.7/dist-packages (from -r requirements.txt (line 2)) (1.19.5)\n",
            "Collecting awscli\n",
            "  Downloading awscli-1.20.20-py3-none-any.whl (3.7 MB)\n",
            "\u001b[K     |████████████████████████████████| 3.7 MB 9.8 MB/s \n",
            "\u001b[?25hRequirement already satisfied: urllib3 in /usr/local/lib/python3.7/dist-packages (from -r requirements.txt (line 5)) (1.24.3)\n",
            "Requirement already satisfied: tqdm in /usr/local/lib/python3.7/dist-packages (from -r requirements.txt (line 7)) (4.41.1)\n",
            "Requirement already satisfied: opencv-python in /usr/local/lib/python3.7/dist-packages (from -r requirements.txt (line 9)) (4.1.2.30)\n",
            "Requirement already satisfied: pytz>=2017.2 in /usr/local/lib/python3.7/dist-packages (from pandas->-r requirements.txt (line 1)) (2018.9)\n",
            "Requirement already satisfied: python-dateutil>=2.7.3 in /usr/local/lib/python3.7/dist-packages (from pandas->-r requirements.txt (line 1)) (2.8.1)\n",
            "Requirement already satisfied: six>=1.5 in /usr/local/lib/python3.7/dist-packages (from python-dateutil>=2.7.3->pandas->-r requirements.txt (line 1)) (1.15.0)\n",
            "Collecting colorama<0.4.4,>=0.2.5\n",
            "  Downloading colorama-0.4.3-py2.py3-none-any.whl (15 kB)\n",
            "Collecting s3transfer<0.6.0,>=0.5.0\n",
            "  Downloading s3transfer-0.5.0-py3-none-any.whl (79 kB)\n",
            "\u001b[K     |████████████████████████████████| 79 kB 10.6 MB/s \n",
            "\u001b[?25hRequirement already satisfied: rsa<4.8,>=3.1.2 in /usr/local/lib/python3.7/dist-packages (from awscli->-r requirements.txt (line 3)) (4.7.2)\n",
            "Requirement already satisfied: PyYAML<5.5,>=3.10 in /usr/local/lib/python3.7/dist-packages (from awscli->-r requirements.txt (line 3)) (3.13)\n",
            "Collecting docutils<0.16,>=0.10\n",
            "  Downloading docutils-0.15.2-py3-none-any.whl (547 kB)\n",
            "\u001b[K     |████████████████████████████████| 547 kB 80.5 MB/s \n",
            "\u001b[?25hCollecting botocore==1.21.20\n",
            "  Downloading botocore-1.21.20-py3-none-any.whl (7.8 MB)\n",
            "\u001b[K     |████████████████████████████████| 7.8 MB 57.9 MB/s \n",
            "\u001b[?25hCollecting jmespath<1.0.0,>=0.7.1\n",
            "  Downloading jmespath-0.10.0-py2.py3-none-any.whl (24 kB)\n",
            "Collecting urllib3\n",
            "  Downloading urllib3-1.26.6-py2.py3-none-any.whl (138 kB)\n",
            "\u001b[K     |████████████████████████████████| 138 kB 63.0 MB/s \n",
            "\u001b[?25hRequirement already satisfied: pyasn1>=0.1.3 in /usr/local/lib/python3.7/dist-packages (from rsa<4.8,>=3.1.2->awscli->-r requirements.txt (line 3)) (0.4.8)\n",
            "Installing collected packages: urllib3, jmespath, botocore, s3transfer, docutils, colorama, awscli\n",
            "  Attempting uninstall: urllib3\n",
            "    Found existing installation: urllib3 1.24.3\n",
            "    Uninstalling urllib3-1.24.3:\n",
            "      Successfully uninstalled urllib3-1.24.3\n",
            "  Attempting uninstall: docutils\n",
            "    Found existing installation: docutils 0.17.1\n",
            "    Uninstalling docutils-0.17.1:\n",
            "      Successfully uninstalled docutils-0.17.1\n",
            "\u001b[31mERROR: pip's dependency resolver does not currently take into account all the packages that are installed. This behaviour is the source of the following dependency conflicts.\n",
            "requests 2.23.0 requires urllib3!=1.25.0,!=1.25.1,<1.26,>=1.21.1, but you have urllib3 1.26.6 which is incompatible.\n",
            "datascience 0.10.6 requires folium==0.2.1, but you have folium 0.8.3 which is incompatible.\u001b[0m\n",
            "Successfully installed awscli-1.20.20 botocore-1.21.20 colorama-0.4.3 docutils-0.15.2 jmespath-0.10.0 s3transfer-0.5.0 urllib3-1.26.6\n"
          ],
          "name": "stdout"
        }
      ]
    },
    {
      "cell_type": "markdown",
      "metadata": {
        "id": "EsBNLKIBvgeZ"
      },
      "source": [
        "# **2. Test OID-Toolkit**"
      ]
    },
    {
      "cell_type": "code",
      "metadata": {
        "colab": {
          "base_uri": "https://localhost:8080/"
        },
        "id": "MizbuGhVc3_X",
        "outputId": "0c5df413-e748-42e7-8874-dbca0fa0291c"
      },
      "source": [
        "!python main.py -h"
      ],
      "execution_count": null,
      "outputs": [
        {
          "output_type": "stream",
          "text": [
            "usage: main.py [-h] [--Dataset /path/to/OID/csv/] [-y]\n",
            "               [--classes list of classes [list of classes ...]]\n",
            "               [--type_csv 'train' or 'validation' or 'test' or 'all']\n",
            "               [--sub Subset of human verified images or machine generated h or m)]\n",
            "               [--image_IsOccluded 1 or 0] [--image_IsTruncated 1 or 0]\n",
            "               [--image_IsGroupOf 1 or 0] [--image_IsDepiction 1 or 0]\n",
            "               [--image_IsInside 1 or 0] [--multiclasses 0 (default or 1]\n",
            "               [--n_threads [default 20]] [--noLabels]\n",
            "               [--limit integer number]\n",
            "               <command> 'downloader', 'visualizer' or 'ill_downloader'.\n",
            "\n",
            "Open Image Dataset Downloader\n",
            "\n",
            "positional arguments:\n",
            "  <command> 'downloader', 'visualizer' or 'ill_downloader'.\n",
            "                        'downloader', 'visualizer' or 'ill_downloader'.\n",
            "\n",
            "optional arguments:\n",
            "  -h, --help            show this help message and exit\n",
            "  --Dataset /path/to/OID/csv/\n",
            "                        Directory of the OID dataset folder\n",
            "  -y, --yes             ans Yes to possible download of missing files\n",
            "  --classes list of classes [list of classes ...]\n",
            "                        Sequence of 'strings' of the wanted classes\n",
            "  --type_csv 'train' or 'validation' or 'test' or 'all'\n",
            "                        From what csv search the images\n",
            "  --sub Subset of human verified images or machine generated (h or m)\n",
            "                        Download from the human verified dataset or from the\n",
            "                        machine generated one.\n",
            "  --image_IsOccluded 1 or 0\n",
            "                        Optional characteristic of the images. Indicates that\n",
            "                        the object is occluded by another object in the image.\n",
            "  --image_IsTruncated 1 or 0\n",
            "                        Optional characteristic of the images. Indicates that\n",
            "                        the object extends beyond the boundary of the image.\n",
            "  --image_IsGroupOf 1 or 0\n",
            "                        Optional characteristic of the images. Indicates that\n",
            "                        the box spans a group of objects (min 5).\n",
            "  --image_IsDepiction 1 or 0\n",
            "                        Optional characteristic of the images. Indicates that\n",
            "                        the object is a depiction.\n",
            "  --image_IsInside 1 or 0\n",
            "                        Optional characteristic of the images. Indicates a\n",
            "                        picture taken from the inside of the object.\n",
            "  --multiclasses 0 (default) or 1\n",
            "                        Download different classes separately (0) or together\n",
            "                        (1)\n",
            "  --n_threads [default 20]\n",
            "                        Num of the threads to use\n",
            "  --noLabels            No labels creations\n",
            "  --limit integer number\n",
            "                        Optional limit on number of images to download\n"
          ],
          "name": "stdout"
        }
      ]
    },
    {
      "cell_type": "markdown",
      "metadata": {
        "id": "_L84lhsvwUDJ"
      },
      "source": [
        "# **3. Run OID-Toolkit and Download Dataset to Colab**"
      ]
    },
    {
      "cell_type": "code",
      "metadata": {
        "colab": {
          "base_uri": "https://localhost:8080/"
        },
        "id": "UDU9liB9hWru",
        "outputId": "31339702-c720-42b8-b1ca-cd584e030d87"
      },
      "source": [
        "!python main.py downloader --classes Coin Dice Tennis_ball --type_csv train --multiclasses 1 --limit 9"
      ],
      "execution_count": null,
      "outputs": [
        {
          "output_type": "stream",
          "text": [
            "\u001b[92m\n",
            "\t\t   ___   _____  ______            _    _    \n",
            "\t\t .'   `.|_   _||_   _ `.         | |  | |   \n",
            "\t\t/  .-.  \\ | |    | | `. \\ _   __ | |__| |_  \n",
            "\t\t| |   | | | |    | |  | |[ \\ [  ]|____   _| \n",
            "\t\t\\  `-'  /_| |_  _| |_.' / \\ \\/ /     _| |_  \n",
            "\t\t `.___.'|_____||______.'   \\__/     |_____|\n",
            "\t\u001b[0m\n",
            "\u001b[92m\n",
            "             _____                    _                 _             \n",
            "            (____ \\                  | |               | |            \n",
            "             _   \\ \\ ___  _ _ _ ____ | | ___   ____  _ | | ____  ____ \n",
            "            | |   | / _ \\| | | |  _ \\| |/ _ \\ / _  |/ || |/ _  )/ ___)\n",
            "            | |__/ / |_| | | | | | | | | |_| ( ( | ( (_| ( (/ /| |    \n",
            "            |_____/ \\___/ \\____|_| |_|_|\\___/ \\_||_|\\____|\\____)_|    \n",
            "                                                          \n",
            "        \u001b[0m\n",
            "    [INFO] | Downloading ['Coin', 'Dice', 'Tennis ball'] together.\u001b[0m\n",
            "\u001b[91m   [ERROR] | Missing the class-descriptions-boxable.csv file.\u001b[0m\n",
            "\u001b[94m[DOWNLOAD] | Do you want to download the missing file? [Y/n] \u001b[0mY\n",
            "...145%, 0 MB, 49561 KB/s, 0 seconds passed\n",
            "\u001b[94m[DOWNLOAD] | File class-descriptions-boxable.csv downloaded into OID/csv_folder/class-descriptions-boxable.csv.\u001b[0m\n",
            "\u001b[91m   [ERROR] | Missing the train-annotations-bbox.csv file.\u001b[0m\n",
            "\u001b[94m[DOWNLOAD] | Do you want to download the missing file? [Y/n] \u001b[0mY\n",
            "...100%, 1138 MB, 35573 KB/s, 32 seconds passed\n",
            "\u001b[94m[DOWNLOAD] | File train-annotations-bbox.csv downloaded into OID/csv_folder/train-annotations-bbox.csv.\u001b[0m\n",
            "\n",
            "\u001b[95mCoin\u001b[0m\n",
            "    [INFO] | Downloading train images.\u001b[0m\n",
            "    [INFO] | [INFO] Found 1224 online images for train.\u001b[0m\n",
            "    [INFO] | Limiting to 9 images.\u001b[0m\n",
            "    [INFO] | Download of 9 images in train.\u001b[0m\n",
            "100% 9/9 [00:09<00:00,  1.09s/it]\n",
            "    [INFO] | Done!\u001b[0m\n",
            "    [INFO] | Creating labels for Coin of train.\u001b[0m\n",
            "    [INFO] | Labels creation completed.\u001b[0m\n",
            "\n",
            "\u001b[95mDice\u001b[0m\n",
            "    [INFO] | Downloading train images.\u001b[0m\n",
            "    [INFO] | [INFO] Found 214 online images for train.\u001b[0m\n",
            "    [INFO] | Limiting to 9 images.\u001b[0m\n",
            "    [INFO] | Download of 9 images in train.\u001b[0m\n",
            "100% 9/9 [00:09<00:00,  1.10s/it]\n",
            "    [INFO] | Done!\u001b[0m\n",
            "    [INFO] | Creating labels for Dice of train.\u001b[0m\n",
            "    [INFO] | Labels creation completed.\u001b[0m\n",
            "\n",
            "\u001b[95mTennis ball\u001b[0m\n",
            "    [INFO] | Downloading train images.\u001b[0m\n",
            "    [INFO] | [INFO] Found 385 online images for train.\u001b[0m\n",
            "    [INFO] | Limiting to 9 images.\u001b[0m\n",
            "    [INFO] | Download of 9 images in train.\u001b[0m\n",
            "100% 9/9 [00:09<00:00,  1.10s/it]\n",
            "    [INFO] | Done!\u001b[0m\n",
            "    [INFO] | Creating labels for Tennis ball of train.\u001b[0m\n",
            "    [INFO] | Labels creation completed.\u001b[0m\n"
          ],
          "name": "stdout"
        }
      ]
    },
    {
      "cell_type": "markdown",
      "metadata": {
        "id": "qBiP8PjSoxBd"
      },
      "source": [
        "# **4.1 Download Dataset to PC**"
      ]
    },
    {
      "cell_type": "code",
      "metadata": {
        "colab": {
          "base_uri": "https://localhost:8080/"
        },
        "id": "8CmHzbVzwzH8",
        "outputId": "8411bb5c-3a6e-4bbb-8246-713e44315b24"
      },
      "source": [
        "!zip -r /content/Dataset.zip /content/OIDv4_ToolKit/OID/Dataset/train/Coin_Dice_Tennis_ball"
      ],
      "execution_count": null,
      "outputs": [
        {
          "output_type": "stream",
          "text": [
            "  adding: content/OIDv4_ToolKit/OID/Dataset/train/Coin_Dice_Tennis_ball/ (stored 0%)\n",
            "  adding: content/OIDv4_ToolKit/OID/Dataset/train/Coin_Dice_Tennis_ball/00f10b51a3b0a585.jpg (deflated 0%)\n",
            "  adding: content/OIDv4_ToolKit/OID/Dataset/train/Coin_Dice_Tennis_ball/087420ce9f92d0d2.jpg (deflated 0%)\n",
            "  adding: content/OIDv4_ToolKit/OID/Dataset/train/Coin_Dice_Tennis_ball/cd9510ea74993245.jpg (deflated 0%)\n",
            "  adding: content/OIDv4_ToolKit/OID/Dataset/train/Coin_Dice_Tennis_ball/851a9e0bf819dc0d.jpg (deflated 1%)\n",
            "  adding: content/OIDv4_ToolKit/OID/Dataset/train/Coin_Dice_Tennis_ball/Label/ (stored 0%)\n",
            "  adding: content/OIDv4_ToolKit/OID/Dataset/train/Coin_Dice_Tennis_ball/Label/c527bccbf48a56ad.txt (deflated 5%)\n",
            "  adding: content/OIDv4_ToolKit/OID/Dataset/train/Coin_Dice_Tennis_ball/Label/173de55138d66a77.txt (deflated 25%)\n",
            "  adding: content/OIDv4_ToolKit/OID/Dataset/train/Coin_Dice_Tennis_ball/Label/8560583ef9acb574.txt (deflated 31%)\n",
            "  adding: content/OIDv4_ToolKit/OID/Dataset/train/Coin_Dice_Tennis_ball/Label/24f9923d2c24f98d.txt (deflated 14%)\n",
            "  adding: content/OIDv4_ToolKit/OID/Dataset/train/Coin_Dice_Tennis_ball/Label/94b05466e3c7b740.txt (deflated 15%)\n",
            "  adding: content/OIDv4_ToolKit/OID/Dataset/train/Coin_Dice_Tennis_ball/Label/c1819745948bfb1b.txt (deflated 9%)\n",
            "  adding: content/OIDv4_ToolKit/OID/Dataset/train/Coin_Dice_Tennis_ball/Label/073462b0d9523e24.txt (deflated 27%)\n",
            "  adding: content/OIDv4_ToolKit/OID/Dataset/train/Coin_Dice_Tennis_ball/Label/da342257e4655f49.txt (deflated 28%)\n",
            "  adding: content/OIDv4_ToolKit/OID/Dataset/train/Coin_Dice_Tennis_ball/Label/90aa3ed967c70f2d.txt (deflated 60%)\n",
            "  adding: content/OIDv4_ToolKit/OID/Dataset/train/Coin_Dice_Tennis_ball/Label/1ec4ef0586b59e84.txt (deflated 43%)\n",
            "  adding: content/OIDv4_ToolKit/OID/Dataset/train/Coin_Dice_Tennis_ball/Label/bc739fc71231ed67.txt (deflated 8%)\n",
            "  adding: content/OIDv4_ToolKit/OID/Dataset/train/Coin_Dice_Tennis_ball/Label/ccdf8b6daac4df3c.txt (deflated 37%)\n",
            "  adding: content/OIDv4_ToolKit/OID/Dataset/train/Coin_Dice_Tennis_ball/Label/4075e3b3a1d0b7b3.txt (deflated 40%)\n",
            "  adding: content/OIDv4_ToolKit/OID/Dataset/train/Coin_Dice_Tennis_ball/Label/5b5dc90bcd2ec566.txt (deflated 53%)\n",
            "  adding: content/OIDv4_ToolKit/OID/Dataset/train/Coin_Dice_Tennis_ball/Label/049a256882ff87c7.txt (stored 0%)\n",
            "  adding: content/OIDv4_ToolKit/OID/Dataset/train/Coin_Dice_Tennis_ball/Label/087420ce9f92d0d2.txt (stored 0%)\n",
            "  adding: content/OIDv4_ToolKit/OID/Dataset/train/Coin_Dice_Tennis_ball/Label/af30dd2a3a7d377b.txt (deflated 5%)\n",
            "  adding: content/OIDv4_ToolKit/OID/Dataset/train/Coin_Dice_Tennis_ball/Label/cd9510ea74993245.txt (deflated 14%)\n",
            "  adding: content/OIDv4_ToolKit/OID/Dataset/train/Coin_Dice_Tennis_ball/Label/030b01aab1cf161b.txt (deflated 10%)\n",
            "  adding: content/OIDv4_ToolKit/OID/Dataset/train/Coin_Dice_Tennis_ball/Label/f217f7e7d569ccec.txt (stored 0%)\n",
            "  adding: content/OIDv4_ToolKit/OID/Dataset/train/Coin_Dice_Tennis_ball/Label/20abd6a29b705c01.txt (deflated 21%)\n",
            "  adding: content/OIDv4_ToolKit/OID/Dataset/train/Coin_Dice_Tennis_ball/Label/9bffbd1f7709d27f.txt (deflated 58%)\n",
            "  adding: content/OIDv4_ToolKit/OID/Dataset/train/Coin_Dice_Tennis_ball/Label/851a9e0bf819dc0d.txt (deflated 32%)\n",
            "  adding: content/OIDv4_ToolKit/OID/Dataset/train/Coin_Dice_Tennis_ball/Label/248b4dc4e0e81fa2.txt (stored 0%)\n",
            "  adding: content/OIDv4_ToolKit/OID/Dataset/train/Coin_Dice_Tennis_ball/Label/42be1f930d02d13f.txt (deflated 13%)\n",
            "  adding: content/OIDv4_ToolKit/OID/Dataset/train/Coin_Dice_Tennis_ball/Label/bc009005494704cb.txt (deflated 6%)\n",
            "  adding: content/OIDv4_ToolKit/OID/Dataset/train/Coin_Dice_Tennis_ball/Label/00f10b51a3b0a585.txt (deflated 5%)\n",
            "  adding: content/OIDv4_ToolKit/OID/Dataset/train/Coin_Dice_Tennis_ball/8560583ef9acb574.jpg (deflated 1%)\n",
            "  adding: content/OIDv4_ToolKit/OID/Dataset/train/Coin_Dice_Tennis_ball/9bffbd1f7709d27f.jpg (deflated 1%)\n",
            "  adding: content/OIDv4_ToolKit/OID/Dataset/train/Coin_Dice_Tennis_ball/90aa3ed967c70f2d.jpg (deflated 0%)\n",
            "  adding: content/OIDv4_ToolKit/OID/Dataset/train/Coin_Dice_Tennis_ball/24f9923d2c24f98d.jpg (deflated 1%)\n",
            "  adding: content/OIDv4_ToolKit/OID/Dataset/train/Coin_Dice_Tennis_ball/94b05466e3c7b740.jpg (deflated 0%)\n",
            "  adding: content/OIDv4_ToolKit/OID/Dataset/train/Coin_Dice_Tennis_ball/20abd6a29b705c01.jpg (deflated 2%)\n",
            "  adding: content/OIDv4_ToolKit/OID/Dataset/train/Coin_Dice_Tennis_ball/4075e3b3a1d0b7b3.jpg (deflated 0%)\n",
            "  adding: content/OIDv4_ToolKit/OID/Dataset/train/Coin_Dice_Tennis_ball/c527bccbf48a56ad.jpg (deflated 0%)\n",
            "  adding: content/OIDv4_ToolKit/OID/Dataset/train/Coin_Dice_Tennis_ball/bc739fc71231ed67.jpg (deflated 0%)\n",
            "  adding: content/OIDv4_ToolKit/OID/Dataset/train/Coin_Dice_Tennis_ball/049a256882ff87c7.jpg (deflated 0%)\n",
            "  adding: content/OIDv4_ToolKit/OID/Dataset/train/Coin_Dice_Tennis_ball/42be1f930d02d13f.jpg (deflated 0%)\n",
            "  adding: content/OIDv4_ToolKit/OID/Dataset/train/Coin_Dice_Tennis_ball/bc009005494704cb.jpg (deflated 0%)\n",
            "  adding: content/OIDv4_ToolKit/OID/Dataset/train/Coin_Dice_Tennis_ball/da342257e4655f49.jpg (deflated 1%)\n",
            "  adding: content/OIDv4_ToolKit/OID/Dataset/train/Coin_Dice_Tennis_ball/1ec4ef0586b59e84.jpg (deflated 0%)\n",
            "  adding: content/OIDv4_ToolKit/OID/Dataset/train/Coin_Dice_Tennis_ball/073462b0d9523e24.jpg (deflated 0%)\n",
            "  adding: content/OIDv4_ToolKit/OID/Dataset/train/Coin_Dice_Tennis_ball/c1819745948bfb1b.jpg (deflated 0%)\n",
            "  adding: content/OIDv4_ToolKit/OID/Dataset/train/Coin_Dice_Tennis_ball/af30dd2a3a7d377b.jpg (deflated 1%)\n",
            "  adding: content/OIDv4_ToolKit/OID/Dataset/train/Coin_Dice_Tennis_ball/173de55138d66a77.jpg (deflated 0%)\n",
            "  adding: content/OIDv4_ToolKit/OID/Dataset/train/Coin_Dice_Tennis_ball/5b5dc90bcd2ec566.jpg (deflated 0%)\n",
            "  adding: content/OIDv4_ToolKit/OID/Dataset/train/Coin_Dice_Tennis_ball/ccdf8b6daac4df3c.jpg (deflated 0%)\n",
            "  adding: content/OIDv4_ToolKit/OID/Dataset/train/Coin_Dice_Tennis_ball/248b4dc4e0e81fa2.jpg (deflated 0%)\n",
            "  adding: content/OIDv4_ToolKit/OID/Dataset/train/Coin_Dice_Tennis_ball/f217f7e7d569ccec.jpg (deflated 4%)\n",
            "  adding: content/OIDv4_ToolKit/OID/Dataset/train/Coin_Dice_Tennis_ball/030b01aab1cf161b.jpg (deflated 0%)\n"
          ],
          "name": "stdout"
        }
      ]
    },
    {
      "cell_type": "code",
      "metadata": {
        "id": "gCDPGj9oyJZz",
        "colab": {
          "base_uri": "https://localhost:8080/",
          "height": 17
        },
        "outputId": "52fe2a7a-55dc-4371-d3d0-d5e16814d88a"
      },
      "source": [
        "from google.colab import files\n",
        "files.download(\"/content/Dataset.zip\")"
      ],
      "execution_count": null,
      "outputs": [
        {
          "output_type": "display_data",
          "data": {
            "application/javascript": [
              "\n",
              "    async function download(id, filename, size) {\n",
              "      if (!google.colab.kernel.accessAllowed) {\n",
              "        return;\n",
              "      }\n",
              "      const div = document.createElement('div');\n",
              "      const label = document.createElement('label');\n",
              "      label.textContent = `Downloading \"${filename}\": `;\n",
              "      div.appendChild(label);\n",
              "      const progress = document.createElement('progress');\n",
              "      progress.max = size;\n",
              "      div.appendChild(progress);\n",
              "      document.body.appendChild(div);\n",
              "\n",
              "      const buffers = [];\n",
              "      let downloaded = 0;\n",
              "\n",
              "      const channel = await google.colab.kernel.comms.open(id);\n",
              "      // Send a message to notify the kernel that we're ready.\n",
              "      channel.send({})\n",
              "\n",
              "      for await (const message of channel.messages) {\n",
              "        // Send a message to notify the kernel that we're ready.\n",
              "        channel.send({})\n",
              "        if (message.buffers) {\n",
              "          for (const buffer of message.buffers) {\n",
              "            buffers.push(buffer);\n",
              "            downloaded += buffer.byteLength;\n",
              "            progress.value = downloaded;\n",
              "          }\n",
              "        }\n",
              "      }\n",
              "      const blob = new Blob(buffers, {type: 'application/binary'});\n",
              "      const a = document.createElement('a');\n",
              "      a.href = window.URL.createObjectURL(blob);\n",
              "      a.download = filename;\n",
              "      div.appendChild(a);\n",
              "      a.click();\n",
              "      div.remove();\n",
              "    }\n",
              "  "
            ],
            "text/plain": [
              "<IPython.core.display.Javascript object>"
            ]
          },
          "metadata": {
            "tags": []
          }
        },
        {
          "output_type": "display_data",
          "data": {
            "application/javascript": [
              "download(\"download_031f7e09-9b6c-4e0c-b170-cad2a65aeda3\", \"Dataset.zip\", 6511203)"
            ],
            "text/plain": [
              "<IPython.core.display.Javascript object>"
            ]
          },
          "metadata": {
            "tags": []
          }
        }
      ]
    },
    {
      "cell_type": "markdown",
      "metadata": {
        "id": "zcdukGlJq3_O"
      },
      "source": [
        "# **4.2. Save Dataset to GDrive (Optional)**"
      ]
    },
    {
      "cell_type": "code",
      "metadata": {
        "colab": {
          "base_uri": "https://localhost:8080/"
        },
        "id": "5UEEBqthl_HW",
        "outputId": "46e1302d-16bc-427c-d895-4a754f5a3941"
      },
      "source": [
        "from google.colab import drive\n",
        "drive.mount('/content/gdrive')"
      ],
      "execution_count": null,
      "outputs": [
        {
          "output_type": "stream",
          "text": [
            "Mounted at /content/gdrive\n"
          ],
          "name": "stdout"
        }
      ]
    },
    {
      "cell_type": "markdown",
      "metadata": {
        "id": "lGmvLG3SwOIg"
      },
      "source": [
        "# **4.3 Direct Roboflow Upload [COMING SOON]**"
      ]
    },
    {
      "cell_type": "code",
      "metadata": {
        "colab": {
          "base_uri": "https://localhost:8080/",
          "height": 52
        },
        "id": "pwfOhKYjStm8",
        "outputId": "7e38de09-c4f5-4062-8902-aa4469774cde"
      },
      "source": [
        "%cd /content/OIDv4_ToolKit/OID/Dataset/train/Coin_Dice_Tennis_ball\n",
        "%pwd"
      ],
      "execution_count": null,
      "outputs": [
        {
          "output_type": "stream",
          "text": [
            "/content/OIDv4_ToolKit/OID/Dataset/train/Coin_Dice_Tennis ball\n"
          ],
          "name": "stdout"
        },
        {
          "output_type": "execute_result",
          "data": {
            "application/vnd.google.colaboratory.intrinsic+json": {
              "type": "string"
            },
            "text/plain": [
              "'/content/OIDv4_ToolKit/OID/Dataset/train/Coin_Dice_Tennis_ball'"
            ]
          },
          "metadata": {
            "tags": []
          },
          "execution_count": 44
        }
      ]
    },
    {
      "cell_type": "code",
      "metadata": {
        "id": "YFxXeTQzThhn"
      },
      "source": [
        "!mv \"/content/OIDv4_ToolKit/OID/Dataset/train\" \"/content/OIDv4_ToolKit/OID/Dataset/train/Coin_Dice_Tennis ball/Label\""
      ],
      "execution_count": null,
      "outputs": []
    },
    {
      "cell_type": "code",
      "metadata": {
        "colab": {
          "base_uri": "https://localhost:8080/"
        },
        "id": "XwRoJnE_eiuu",
        "outputId": "71edf45e-372f-4eaf-f666-8babba94838f"
      },
      "source": [
        "!gsutil cp -r /content/OIDv4_ToolKit/OID/Dataset/train/Label /content/OIDv4_ToolKit/OID/Dataset/train/Coin_Dice_Tennis_ball"
      ],
      "execution_count": null,
      "outputs": [
        {
          "output_type": "stream",
          "text": [
            "Copying file:///content/OIDv4_ToolKit/OID/Dataset/train/Label/24621a4e4ca85a37.txt...\n",
            "/ [0 files][    0.0 B/  295.0 B]                                                \r/ [1 files][  295.0 B/  295.0 B]                                                \rCopying file:///content/OIDv4_ToolKit/OID/Dataset/train/Label/a3c948c288e08658.txt...\n",
            "/ [1 files][  295.0 B/  394.0 B]                                                \r/ [2 files][  394.0 B/  394.0 B]                                                \rCopying file:///content/OIDv4_ToolKit/OID/Dataset/train/Label/024dbdd272e70154.txt...\n",
            "/ [2 files][  394.0 B/  450.0 B]                                                \r/ [3 files][  450.0 B/  450.0 B]                                                \rCopying file:///content/OIDv4_ToolKit/OID/Dataset/train/Label/005ca2dd2cc3f8b9.txt...\n",
            "/ [3 files][  450.0 B/  542.0 B]                                                \r/ [4 files][  542.0 B/  542.0 B]                                                \r\n",
            "==> NOTE: You are performing a sequence of gsutil operations that may\n",
            "run significantly faster if you instead use gsutil -m cp ... Please\n",
            "see the -m section under \"gsutil help options\" for further information\n",
            "about when gsutil -m can be advantageous.\n",
            "\n",
            "Copying file:///content/OIDv4_ToolKit/OID/Dataset/train/Label/3b51bc8326f381b9.txt...\n",
            "/ [4 files][  542.0 B/  858.0 B]                                                \r/ [5 files][  858.0 B/  858.0 B]                                                \rCopying file:///content/OIDv4_ToolKit/OID/Dataset/train/Label/cfa8ff4d373326fd.txt...\n",
            "/ [5 files][  858.0 B/  898.0 B]                                                \r/ [6 files][  898.0 B/  898.0 B]                                                \rCopying file:///content/OIDv4_ToolKit/OID/Dataset/train/Label/a8e7226b5dc3d1cd.txt...\n",
            "/ [6 files][  898.0 B/  964.0 B]                                                \r/ [7 files][  964.0 B/  964.0 B]                                                \rCopying file:///content/OIDv4_ToolKit/OID/Dataset/train/Label/e996a6fb4bae73ad.txt...\n",
            "/ [7 files][  964.0 B/   1003 B]                                                \r/ [8 files][   1003 B/   1003 B]                                                \rCopying file:///content/OIDv4_ToolKit/OID/Dataset/train/Label/1564c3730ede76c0.txt...\n",
            "/ [8 files][   1003 B/  1.0 KiB]                                                \r/ [9 files][  1.0 KiB/  1.0 KiB]                                                \rCopying file:///content/OIDv4_ToolKit/OID/Dataset/train/Label/01840046088f02e5.txt...\n",
            "/ [9 files][  1.0 KiB/  1.1 KiB]                                                \r/ [10 files][  1.1 KiB/  1.1 KiB]                                               \rCopying file:///content/OIDv4_ToolKit/OID/Dataset/train/Label/e39e4748a72c5e08.txt...\n",
            "/ [10 files][  1.1 KiB/  1.3 KiB]                                               \r/ [11 files][  1.3 KiB/  1.3 KiB]                                               \rCopying file:///content/OIDv4_ToolKit/OID/Dataset/train/Label/d5654d19ed227dfd.txt...\n",
            "/ [11 files][  1.3 KiB/  1.4 KiB]                                               \r/ [12 files][  1.4 KiB/  1.4 KiB]                                               \rCopying file:///content/OIDv4_ToolKit/OID/Dataset/train/Label/01df8b24914ebbfe.txt...\n",
            "/ [12 files][  1.4 KiB/  1.4 KiB]                                               \r/ [13 files][  1.4 KiB/  1.4 KiB]                                               \rCopying file:///content/OIDv4_ToolKit/OID/Dataset/train/Label/c9a68449921689a8.txt...\n",
            "/ [13 files][  1.4 KiB/  1.6 KiB]                                               \r/ [14 files][  1.6 KiB/  1.6 KiB]                                               \rCopying file:///content/OIDv4_ToolKit/OID/Dataset/train/Label/0a395249d36c80fa.txt...\n",
            "/ [14 files][  1.6 KiB/  1.6 KiB]                                               \r/ [15 files][  1.6 KiB/  1.6 KiB]                                               \rCopying file:///content/OIDv4_ToolKit/OID/Dataset/train/Label/edc57d0c726a49a8.txt...\n",
            "/ [15 files][  1.6 KiB/  1.7 KiB]                                               \r/ [16 files][  1.7 KiB/  1.7 KiB]                                               \rCopying file:///content/OIDv4_ToolKit/OID/Dataset/train/Label/82d25c5625e1a662.txt...\n",
            "/ [16 files][  1.7 KiB/  1.7 KiB]                                               \r/ [17 files][  1.7 KiB/  1.7 KiB]                                               \rCopying file:///content/OIDv4_ToolKit/OID/Dataset/train/Label/06258e291a66c295.txt...\n",
            "/ [17 files][  1.7 KiB/  1.8 KiB]                                               \r/ [18 files][  1.8 KiB/  1.8 KiB]                                               \rCopying file:///content/OIDv4_ToolKit/OID/Dataset/train/Label/5ed4890d8db0b25b.txt...\n",
            "/ [18 files][  1.8 KiB/  1.9 KiB]                                               \r/ [19 files][  1.9 KiB/  1.9 KiB]                                               \rCopying file:///content/OIDv4_ToolKit/OID/Dataset/train/Label/3a22fdf14bea3025.txt...\n",
            "/ [19 files][  1.9 KiB/  2.1 KiB]                                               \r/ [20 files][  2.1 KiB/  2.1 KiB]                                               \rCopying file:///content/OIDv4_ToolKit/OID/Dataset/train/Label/e09bd3cf3564640d.txt...\n",
            "/ [20 files][  2.1 KiB/  2.4 KiB]                                               \r/ [21 files][  2.4 KiB/  2.4 KiB]                                               \rCopying file:///content/OIDv4_ToolKit/OID/Dataset/train/Label/4391036c3af65a60.txt...\n",
            "/ [21 files][  2.4 KiB/  2.5 KiB]                                               \r/ [22 files][  2.5 KiB/  2.5 KiB]                                               \rCopying file:///content/OIDv4_ToolKit/OID/Dataset/train/Label/ffffebddbb8bba21.txt...\n",
            "/ [22 files][  2.5 KiB/  2.6 KiB]                                               \r/ [23 files][  2.6 KiB/  2.6 KiB]                                               \rCopying file:///content/OIDv4_ToolKit/OID/Dataset/train/Label/6fc91fb4dec6ce7e.txt...\n",
            "/ [23 files][  2.6 KiB/  3.1 KiB]                                               \r/ [24 files][  3.1 KiB/  3.1 KiB]                                               \rCopying file:///content/OIDv4_ToolKit/OID/Dataset/train/Label/ca4f18b9e4d69b00.txt...\n",
            "/ [24 files][  3.1 KiB/  3.2 KiB]                                               \r/ [25 files][  3.2 KiB/  3.2 KiB]                                               \rCopying file:///content/OIDv4_ToolKit/OID/Dataset/train/Label/0448315973b5989b.txt...\n",
            "/ [25 files][  3.2 KiB/  3.3 KiB]                                               \r/ [26 files][  3.3 KiB/  3.3 KiB]                                               \rCopying file:///content/OIDv4_ToolKit/OID/Dataset/train/Label/3271b79a1a79d246.txt...\n",
            "/ [26 files][  3.3 KiB/  3.3 KiB]                                               \r/ [27 files][  3.3 KiB/  3.3 KiB]                                               \r\n",
            "==> NOTE: You are performing a sequence of gsutil operations that may\n",
            "run significantly faster if you instead use gsutil -m cp ... Please\n",
            "see the -m section under \"gsutil help options\" for further information\n",
            "about when gsutil -m can be advantageous.\n",
            "\n",
            "\n",
            "Operation completed over 27 objects/3.3 KiB.                                     \n"
          ],
          "name": "stdout"
        }
      ]
    },
    {
      "cell_type": "markdown",
      "metadata": {
        "id": "xmUKx3NZXXjf"
      },
      "source": [
        "**4.3.1 Uploading Images Only to RoboFlow**"
      ]
    },
    {
      "cell_type": "code",
      "metadata": {
        "id": "AMe_gm0iTDAj",
        "colab": {
          "base_uri": "https://localhost:8080/"
        },
        "outputId": "fff6a36c-ad15-464e-99b0-e24069c5d13b"
      },
      "source": [
        "import requests\n",
        "import base64\n",
        "import io\n",
        "from PIL import Image\n",
        "import os\n",
        "for filename in os.listdir(\".\"):\n",
        "    if filename.endswith(\".jpg\") or filename.endswith(\".png\"):\n",
        "      print(filename)\n",
        "\n",
        "      # Load Image with PIL\n",
        "      image = Image.open(filename).convert(\"RGB\")\n",
        "\n",
        "      # Convert to JPEG Buffer\n",
        "      buffered = io.BytesIO()\n",
        "      image.save(buffered, quality=90, format=\"JPEG\")\n",
        "\n",
        "      # Base 64 Encode\n",
        "      img_str = base64.b64encode(buffered.getvalue())\n",
        "      img_str = img_str.decode(\"ascii\")\n",
        "\n",
        "\n",
        "\n",
        "      # Construct the URL\n",
        "      upload_url = \"\".join([\n",
        "          \"https://api.roboflow.com/dataset/test-3omui/upload\", #INSERT YOUR DATASET HERE!\n",
        "          \"?api_key=\" 'YOUR API KEY HERE!!',          #INSERT YOUR API KEY HERE!\n",
        "          \"&name=\" +str(filename),\n",
        "          \"&split=train\"\n",
        "      ])\n",
        "\n",
        "      # POST to the API\n",
        "      r = requests.post(upload_url, data=img_str, headers={\n",
        "          \"Content-Type\": \"application/x-www-form-urlencoded\"\n",
        "      })\n",
        "\n",
        "      # Output result\n",
        "      print(r.json())"
      ],
      "execution_count": null,
      "outputs": [
        {
          "output_type": "stream",
          "text": [
            "01df8b24914ebbfe.jpg\n",
            "{'success': True, 'id': 'uc0TvZ77UqU9NFlUncFz'}\n",
            "e09bd3cf3564640d.jpg\n",
            "{'success': True, 'id': 'fdoQnwMtbgzxsFxiWfgn'}\n",
            "24621a4e4ca85a37.jpg\n",
            "{'success': True, 'id': 'Dtj5BuedNa7Lz5DVUimf'}\n",
            "e39e4748a72c5e08.jpg\n",
            "{'success': True, 'id': 'R9g9gbjCv2Yhv1oGDouX'}\n",
            "6fc91fb4dec6ce7e.jpg\n",
            "{'success': True, 'id': 'AVnt0YXZKLnyhxAMfmp6'}\n",
            "5ed4890d8db0b25b.jpg\n",
            "{'success': True, 'id': 'ge4UTVE6NHrGGwZCkWMx'}\n",
            "01840046088f02e5.jpg\n",
            "{'success': True, 'id': 'ymrh6WlagsOQN9VBzvqg'}\n",
            "06258e291a66c295.jpg\n",
            "{'success': True, 'id': 'arf5yS1ywv51gKJllowv'}\n",
            "a8e7226b5dc3d1cd.jpg\n",
            "{'success': True, 'id': 'sEcxgb9Xdh8GF4o3gWSS'}\n",
            "024dbdd272e70154.jpg\n",
            "{'success': True, 'id': 'DehDHn5dSetDIDlHaF0W'}\n",
            "4391036c3af65a60.jpg\n",
            "{'success': True, 'id': 'It7d4oL2AO6QWPrN2k0N'}\n",
            "3271b79a1a79d246.jpg\n",
            "{'success': True, 'id': 'gaZUUduyvJdnpngNfNa2'}\n",
            "3a22fdf14bea3025.jpg\n",
            "{'success': True, 'id': 'qV3yoRJnwd6FPrHoyVg1'}\n",
            "edc57d0c726a49a8.jpg\n",
            "{'success': True, 'id': 'brP9bbLRBx3vGIJoHaLJ'}\n",
            "a3c948c288e08658.jpg\n",
            "{'success': True, 'id': 'yNDWeCXkSiC8HQYWmR5A'}\n",
            "3b51bc8326f381b9.jpg\n",
            "{'success': True, 'id': 'nPPn1lzvI7YLwqryvRmk'}\n",
            "d5654d19ed227dfd.jpg\n",
            "{'success': True, 'id': 'M7K6rA3p9RndtIkTg7AZ'}\n",
            "e996a6fb4bae73ad.jpg\n",
            "{'success': True, 'id': '1v1yh8y9rOpfoH4YdeZQ'}\n",
            "cfa8ff4d373326fd.jpg\n",
            "{'success': True, 'id': 'gzyY7HM6IZxLuTufOKCV'}\n",
            "1564c3730ede76c0.jpg\n",
            "{'success': True, 'id': 'xLs8j6U628wBFPctdYT5'}\n",
            "0448315973b5989b.jpg\n",
            "{'success': True, 'id': 'EX4so4Bhef6LrGNEZZ2Q'}\n",
            "82d25c5625e1a662.jpg\n",
            "{'success': True, 'id': 'tJzea0GWPDaRQY6I1fZc'}\n",
            "005ca2dd2cc3f8b9.jpg\n",
            "{'success': True, 'id': 'TTmQ1MXJRCK764ql9jyn'}\n",
            "ffffebddbb8bba21.jpg\n",
            "{'success': True, 'id': '8hPZ24v1viU35UcvuzeK'}\n",
            "ca4f18b9e4d69b00.jpg\n",
            "{'success': True, 'id': 'LasZ7XamgnbdbqD3MYqo'}\n",
            "c9a68449921689a8.jpg\n",
            "{'success': True, 'id': 'cMggPnkhSCLSQqDmhlA7'}\n",
            "0a395249d36c80fa.jpg\n",
            "{'success': True, 'id': 'Cv3izL2GcXSl9s18Nvv6'}\n"
          ],
          "name": "stdout"
        }
      ]
    },
    {
      "cell_type": "markdown",
      "metadata": {
        "id": "lLgsLJkcXpI0"
      },
      "source": [
        "**4.3.2 Uploading Annotations Only to RoboFlow**"
      ]
    },
    {
      "cell_type": "code",
      "metadata": {
        "colab": {
          "base_uri": "https://localhost:8080/"
        },
        "id": "BxWKApjCaE47",
        "outputId": "02a6f78d-3287-4847-c3a9-3c55fa878452"
      },
      "source": [
        "%cd /content/OIDv4_ToolKit/OID/Dataset/train/Label"
      ],
      "execution_count": null,
      "outputs": [
        {
          "output_type": "stream",
          "text": [
            "/content/OIDv4_ToolKit/OID/Dataset/train/Label\n"
          ],
          "name": "stdout"
        }
      ]
    },
    {
      "cell_type": "code",
      "metadata": {
        "colab": {
          "base_uri": "https://localhost:8080/"
        },
        "id": "VdbL7vIEXoRb",
        "outputId": "c2d35c5c-b206-468b-d5a4-ae76fd492838"
      },
      "source": [
        "import os\n",
        "for filename in os.listdir(\".\"):\n",
        "    if filename.endswith(\".jpg\") or filename.endswith(\".png\"):\n",
        "      print(filename)\n",
        "\n",
        "      # Load Image with PIL\n",
        "      image = Image.open(filename).convert(\"RGB\")\n",
        "\n",
        "      # Convert to JPEG Buffer\n",
        "      buffered = io.BytesIO()\n",
        "      image.save(buffered, quality=90, format=\"JPEG\")\n",
        "\n",
        "      # Base 64 Encode\n",
        "      img_str = base64.b64encode(buffered.getvalue())\n",
        "      img_str = img_str.decode(\"ascii\")\n",
        "\n",
        "\n",
        "\n",
        "      # Construct the URL\n",
        "      upload_url = \"\".join([\n",
        "          \"https://api.roboflow.com/dataset/test-3omui/upload\",\n",
        "          \"?api_key=\" 'RnacAZwXfvRaQ2e4qYNB',\n",
        "          \"&name=IMG_0159_JPG.rf.15c0119df282796d2a9c90d18f615672.jpg\",\n",
        "          \"&split=train\"\n",
        "      ])\n",
        "\n",
        "      # POST to the API\n",
        "      r = requests.post(upload_url, data=img_str, headers={\n",
        "          \"Content-Type\": \"application/x-www-form-urlencoded\"\n",
        "      })\n",
        "\n",
        "      # Output result\n",
        "      print(r.json())\n",
        "\n",
        "\n",
        "      img_id = r.json()['id']\n",
        "\n",
        "      annotation_filename = \"/content/OIDv4_ToolKit/OID/Dataset/train/Coin_Dice_Tennis_ball/Label/\" + os.path.splitext(filename)[0]+'.txt'\n",
        "      print(annotation_filename)\n",
        "\n",
        "      # Read Annotation as String\n",
        "      annotation_str = open(annotation_filename, \"r\").read()\n",
        "\n",
        "      # Construct the URL\n",
        "      upload_url = \"\".join([\n",
        "          \"https://api.roboflow.com/dataset/test-3omui/annotate/\" + img_id,\n",
        "          \"?api_key=\" 'RnacAZwXfvRaQ2e4qYNB',\n",
        "          \"&name=\", annotation_filename\n",
        "      ])\n",
        "\n",
        "      # POST to the API\n",
        "      r = requests.post(upload_url, data=annotation_str, headers={\n",
        "          \"Content-Type\": \"text/plain\"\n",
        "      })\n",
        "\n",
        "      # Output result\n",
        "      print(r.json())"
      ],
      "execution_count": null,
      "outputs": [
        {
          "output_type": "stream",
          "text": [
            "01df8b24914ebbfe.jpg\n",
            "{'success': True, 'id': 'uc0TvZ77UqU9NFlUncFz'}\n",
            "/content/OIDv4_ToolKit/OID/Dataset/train/Coin_Dice_Tennis_ball/Label/01df8b24914ebbfe.txt\n",
            "{'error': {'message': 'Unsupported annotation format.', 'type': 'InvalidAnnotationException', 'hint': 'We were unable to parse your annotation format or it is not supported via the upload API at this time.'}}\n",
            "e09bd3cf3564640d.jpg\n",
            "{'success': True, 'id': 'fdoQnwMtbgzxsFxiWfgn'}\n",
            "/content/OIDv4_ToolKit/OID/Dataset/train/Coin_Dice_Tennis_ball/Label/e09bd3cf3564640d.txt\n",
            "{'error': {'message': 'Unsupported annotation format.', 'type': 'InvalidAnnotationException', 'hint': 'We were unable to parse your annotation format or it is not supported via the upload API at this time.'}}\n",
            "24621a4e4ca85a37.jpg\n",
            "{'success': True, 'id': 'Dtj5BuedNa7Lz5DVUimf'}\n",
            "/content/OIDv4_ToolKit/OID/Dataset/train/Coin_Dice_Tennis_ball/Label/24621a4e4ca85a37.txt\n",
            "{'error': {'message': 'Unsupported annotation format.', 'type': 'InvalidAnnotationException', 'hint': 'We were unable to parse your annotation format or it is not supported via the upload API at this time.'}}\n",
            "e39e4748a72c5e08.jpg\n",
            "{'success': True, 'id': 'R9g9gbjCv2Yhv1oGDouX'}\n",
            "/content/OIDv4_ToolKit/OID/Dataset/train/Coin_Dice_Tennis_ball/Label/e39e4748a72c5e08.txt\n",
            "{'error': {'message': 'Unsupported annotation format.', 'type': 'InvalidAnnotationException', 'hint': 'We were unable to parse your annotation format or it is not supported via the upload API at this time.'}}\n",
            "6fc91fb4dec6ce7e.jpg\n",
            "{'success': True, 'id': 'AVnt0YXZKLnyhxAMfmp6'}\n",
            "/content/OIDv4_ToolKit/OID/Dataset/train/Coin_Dice_Tennis_ball/Label/6fc91fb4dec6ce7e.txt\n",
            "{'error': {'message': 'Unsupported annotation format.', 'type': 'InvalidAnnotationException', 'hint': 'We were unable to parse your annotation format or it is not supported via the upload API at this time.'}}\n",
            "5ed4890d8db0b25b.jpg\n",
            "{'success': True, 'id': 'ge4UTVE6NHrGGwZCkWMx'}\n",
            "/content/OIDv4_ToolKit/OID/Dataset/train/Coin_Dice_Tennis_ball/Label/5ed4890d8db0b25b.txt\n",
            "{'error': {'message': 'Unsupported annotation format.', 'type': 'InvalidAnnotationException', 'hint': 'We were unable to parse your annotation format or it is not supported via the upload API at this time.'}}\n",
            "01840046088f02e5.jpg\n",
            "{'success': True, 'id': 'ymrh6WlagsOQN9VBzvqg'}\n",
            "/content/OIDv4_ToolKit/OID/Dataset/train/Coin_Dice_Tennis_ball/Label/01840046088f02e5.txt\n",
            "{'error': {'message': 'Unsupported annotation format.', 'type': 'InvalidAnnotationException', 'hint': 'We were unable to parse your annotation format or it is not supported via the upload API at this time.'}}\n",
            "06258e291a66c295.jpg\n",
            "{'success': True, 'id': 'arf5yS1ywv51gKJllowv'}\n",
            "/content/OIDv4_ToolKit/OID/Dataset/train/Coin_Dice_Tennis_ball/Label/06258e291a66c295.txt\n",
            "{'error': {'message': 'Unsupported annotation format.', 'type': 'InvalidAnnotationException', 'hint': 'We were unable to parse your annotation format or it is not supported via the upload API at this time.'}}\n",
            "a8e7226b5dc3d1cd.jpg\n",
            "{'success': True, 'id': 'sEcxgb9Xdh8GF4o3gWSS'}\n",
            "/content/OIDv4_ToolKit/OID/Dataset/train/Coin_Dice_Tennis_ball/Label/a8e7226b5dc3d1cd.txt\n",
            "{'error': {'message': 'Unsupported annotation format.', 'type': 'InvalidAnnotationException', 'hint': 'We were unable to parse your annotation format or it is not supported via the upload API at this time.'}}\n",
            "024dbdd272e70154.jpg\n",
            "{'success': True, 'id': 'DehDHn5dSetDIDlHaF0W'}\n",
            "/content/OIDv4_ToolKit/OID/Dataset/train/Coin_Dice_Tennis_ball/Label/024dbdd272e70154.txt\n",
            "{'error': {'message': 'Unsupported annotation format.', 'type': 'InvalidAnnotationException', 'hint': 'We were unable to parse your annotation format or it is not supported via the upload API at this time.'}}\n",
            "4391036c3af65a60.jpg\n",
            "{'success': True, 'id': 'It7d4oL2AO6QWPrN2k0N'}\n",
            "/content/OIDv4_ToolKit/OID/Dataset/train/Coin_Dice_Tennis_ball/Label/4391036c3af65a60.txt\n",
            "{'error': {'message': 'Unsupported annotation format.', 'type': 'InvalidAnnotationException', 'hint': 'We were unable to parse your annotation format or it is not supported via the upload API at this time.'}}\n",
            "3271b79a1a79d246.jpg\n",
            "{'success': True, 'id': 'gaZUUduyvJdnpngNfNa2'}\n",
            "/content/OIDv4_ToolKit/OID/Dataset/train/Coin_Dice_Tennis_ball/Label/3271b79a1a79d246.txt\n",
            "{'error': {'message': 'Unsupported annotation format.', 'type': 'InvalidAnnotationException', 'hint': 'We were unable to parse your annotation format or it is not supported via the upload API at this time.'}}\n",
            "3a22fdf14bea3025.jpg\n",
            "{'success': True, 'id': 'qV3yoRJnwd6FPrHoyVg1'}\n",
            "/content/OIDv4_ToolKit/OID/Dataset/train/Coin_Dice_Tennis_ball/Label/3a22fdf14bea3025.txt\n",
            "{'error': {'message': 'Unsupported annotation format.', 'type': 'InvalidAnnotationException', 'hint': 'We were unable to parse your annotation format or it is not supported via the upload API at this time.'}}\n",
            "edc57d0c726a49a8.jpg\n",
            "{'success': True, 'id': 'brP9bbLRBx3vGIJoHaLJ'}\n",
            "/content/OIDv4_ToolKit/OID/Dataset/train/Coin_Dice_Tennis_ball/Label/edc57d0c726a49a8.txt\n",
            "{'error': {'message': 'Unsupported annotation format.', 'type': 'InvalidAnnotationException', 'hint': 'We were unable to parse your annotation format or it is not supported via the upload API at this time.'}}\n",
            "a3c948c288e08658.jpg\n",
            "{'success': True, 'id': 'yNDWeCXkSiC8HQYWmR5A'}\n",
            "/content/OIDv4_ToolKit/OID/Dataset/train/Coin_Dice_Tennis_ball/Label/a3c948c288e08658.txt\n",
            "{'error': {'message': 'Unsupported annotation format.', 'type': 'InvalidAnnotationException', 'hint': 'We were unable to parse your annotation format or it is not supported via the upload API at this time.'}}\n",
            "3b51bc8326f381b9.jpg\n",
            "{'success': True, 'id': 'nPPn1lzvI7YLwqryvRmk'}\n",
            "/content/OIDv4_ToolKit/OID/Dataset/train/Coin_Dice_Tennis_ball/Label/3b51bc8326f381b9.txt\n",
            "{'error': {'message': 'Unsupported annotation format.', 'type': 'InvalidAnnotationException', 'hint': 'We were unable to parse your annotation format or it is not supported via the upload API at this time.'}}\n",
            "d5654d19ed227dfd.jpg\n",
            "{'success': True, 'id': 'M7K6rA3p9RndtIkTg7AZ'}\n",
            "/content/OIDv4_ToolKit/OID/Dataset/train/Coin_Dice_Tennis_ball/Label/d5654d19ed227dfd.txt\n",
            "{'error': {'message': 'Unsupported annotation format.', 'type': 'InvalidAnnotationException', 'hint': 'We were unable to parse your annotation format or it is not supported via the upload API at this time.'}}\n",
            "e996a6fb4bae73ad.jpg\n",
            "{'success': True, 'id': '1v1yh8y9rOpfoH4YdeZQ'}\n",
            "/content/OIDv4_ToolKit/OID/Dataset/train/Coin_Dice_Tennis_ball/Label/e996a6fb4bae73ad.txt\n",
            "{'error': {'message': 'Unsupported annotation format.', 'type': 'InvalidAnnotationException', 'hint': 'We were unable to parse your annotation format or it is not supported via the upload API at this time.'}}\n",
            "cfa8ff4d373326fd.jpg\n",
            "{'success': True, 'id': 'gzyY7HM6IZxLuTufOKCV'}\n",
            "/content/OIDv4_ToolKit/OID/Dataset/train/Coin_Dice_Tennis_ball/Label/cfa8ff4d373326fd.txt\n",
            "{'error': {'message': 'Unsupported annotation format.', 'type': 'InvalidAnnotationException', 'hint': 'We were unable to parse your annotation format or it is not supported via the upload API at this time.'}}\n",
            "1564c3730ede76c0.jpg\n",
            "{'success': True, 'id': 'xLs8j6U628wBFPctdYT5'}\n",
            "/content/OIDv4_ToolKit/OID/Dataset/train/Coin_Dice_Tennis_ball/Label/1564c3730ede76c0.txt\n",
            "{'error': {'message': 'Unsupported annotation format.', 'type': 'InvalidAnnotationException', 'hint': 'We were unable to parse your annotation format or it is not supported via the upload API at this time.'}}\n",
            "0448315973b5989b.jpg\n",
            "{'success': True, 'id': 'EX4so4Bhef6LrGNEZZ2Q'}\n",
            "/content/OIDv4_ToolKit/OID/Dataset/train/Coin_Dice_Tennis_ball/Label/0448315973b5989b.txt\n",
            "{'error': {'message': 'Unsupported annotation format.', 'type': 'InvalidAnnotationException', 'hint': 'We were unable to parse your annotation format or it is not supported via the upload API at this time.'}}\n",
            "82d25c5625e1a662.jpg\n",
            "{'success': True, 'id': 'tJzea0GWPDaRQY6I1fZc'}\n",
            "/content/OIDv4_ToolKit/OID/Dataset/train/Coin_Dice_Tennis_ball/Label/82d25c5625e1a662.txt\n",
            "{'error': {'message': 'Unsupported annotation format.', 'type': 'InvalidAnnotationException', 'hint': 'We were unable to parse your annotation format or it is not supported via the upload API at this time.'}}\n",
            "005ca2dd2cc3f8b9.jpg\n",
            "{'success': True, 'id': 'TTmQ1MXJRCK764ql9jyn'}\n",
            "/content/OIDv4_ToolKit/OID/Dataset/train/Coin_Dice_Tennis_ball/Label/005ca2dd2cc3f8b9.txt\n",
            "{'error': {'message': 'Unsupported annotation format.', 'type': 'InvalidAnnotationException', 'hint': 'We were unable to parse your annotation format or it is not supported via the upload API at this time.'}}\n",
            "ffffebddbb8bba21.jpg\n",
            "{'success': True, 'id': '8hPZ24v1viU35UcvuzeK'}\n",
            "/content/OIDv4_ToolKit/OID/Dataset/train/Coin_Dice_Tennis_ball/Label/ffffebddbb8bba21.txt\n",
            "{'error': {'message': 'Unsupported annotation format.', 'type': 'InvalidAnnotationException', 'hint': 'We were unable to parse your annotation format or it is not supported via the upload API at this time.'}}\n",
            "ca4f18b9e4d69b00.jpg\n",
            "{'success': True, 'id': 'LasZ7XamgnbdbqD3MYqo'}\n",
            "/content/OIDv4_ToolKit/OID/Dataset/train/Coin_Dice_Tennis_ball/Label/ca4f18b9e4d69b00.txt\n",
            "{'error': {'message': 'Unsupported annotation format.', 'type': 'InvalidAnnotationException', 'hint': 'We were unable to parse your annotation format or it is not supported via the upload API at this time.'}}\n",
            "c9a68449921689a8.jpg\n",
            "{'success': True, 'id': 'cMggPnkhSCLSQqDmhlA7'}\n",
            "/content/OIDv4_ToolKit/OID/Dataset/train/Coin_Dice_Tennis_ball/Label/c9a68449921689a8.txt\n",
            "{'error': {'message': 'Unsupported annotation format.', 'type': 'InvalidAnnotationException', 'hint': 'We were unable to parse your annotation format or it is not supported via the upload API at this time.'}}\n",
            "0a395249d36c80fa.jpg\n",
            "{'success': True, 'id': 'Cv3izL2GcXSl9s18Nvv6'}\n",
            "/content/OIDv4_ToolKit/OID/Dataset/train/Coin_Dice_Tennis_ball/Label/0a395249d36c80fa.txt\n",
            "{'error': {'message': 'Unsupported annotation format.', 'type': 'InvalidAnnotationException', 'hint': 'We were unable to parse your annotation format or it is not supported via the upload API at this time.'}}\n"
          ],
          "name": "stdout"
        }
      ]
    },
    {
      "cell_type": "markdown",
      "metadata": {
        "id": "ZS9nwEuUpsyu"
      },
      "source": [
        "# **Conclusion**\n",
        "\n",
        "If you enjoyed this tutorial and want more on **YOLOR** then:\n",
        "\n",
        "💻Get Started with YOLOR [Get Started](https://augmentedstartups.info/YOLOR-Get-Started). <br>\n",
        "⭐ Download the Code at the [AI Vision Store](https://augmentedstartups.info/VisionStore)<br>\n",
        "☕ Show your support with [Chai/Coffee](https://bit.ly/BuymeaCoffeeAS)\n",
        "\n",
        "![picture](https://drive.google.com/uc?export=view&id=1ps6pORV6b4eOoQAljv8s-hTq9YAaIN3b)"
      ]
    }
  ]
}